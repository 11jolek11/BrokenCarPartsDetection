{
 "cells": [
  {
   "cell_type": "code",
   "execution_count": 1,
   "id": "initial_id",
   "metadata": {
    "collapsed": true,
    "ExecuteTime": {
     "end_time": "2023-12-25T11:27:59.317970300Z",
     "start_time": "2023-12-25T11:27:59.211587500Z"
    }
   },
   "outputs": [],
   "source": [
    "from pycocotools.coco import COCO"
   ]
  },
  {
   "cell_type": "code",
   "execution_count": 2,
   "outputs": [
    {
     "name": "stdout",
     "output_type": "stream",
     "text": [
      "loading annotations into memory...\n",
      "Done (t=0.06s)\n",
      "creating index...\n",
      "index created!\n"
     ]
    }
   ],
   "source": [
    "coco = COCO(\"../data/Car-Parts-Segmentation-master/Car-Parts-Segmentation-master/trainingset/annotations.json\")"
   ],
   "metadata": {
    "collapsed": false,
    "ExecuteTime": {
     "end_time": "2023-12-25T11:27:59.389939500Z",
     "start_time": "2023-12-25T11:27:59.316971Z"
    }
   },
   "id": "42b7400e6efa40a2"
  },
  {
   "cell_type": "code",
   "execution_count": 3,
   "outputs": [],
   "source": [
    "cats = coco.loadCats(coco.getCatIds())"
   ],
   "metadata": {
    "collapsed": false,
    "ExecuteTime": {
     "end_time": "2023-12-25T11:27:59.401114500Z",
     "start_time": "2023-12-25T11:27:59.391939900Z"
    }
   },
   "id": "8c6d4e45c6a4b9bc"
  },
  {
   "cell_type": "code",
   "execution_count": 3,
   "outputs": [],
   "source": [],
   "metadata": {
    "collapsed": false,
    "ExecuteTime": {
     "end_time": "2023-12-25T11:27:59.402132200Z",
     "start_time": "2023-12-25T11:27:59.396016800Z"
    }
   },
   "id": "ec92c362930cb518"
  },
  {
   "cell_type": "code",
   "execution_count": 4,
   "outputs": [
    {
     "name": "stdout",
     "output_type": "stream",
     "text": [
      "['_background_', 'back_bumper', 'back_glass', 'back_left_door', 'back_left_light', 'back_right_door', 'back_right_light', 'front_bumper', 'front_glass', 'front_left_door', 'front_left_light', 'front_right_door', 'front_right_light', 'hood', 'left_mirror', 'right_mirror', 'tailgate', 'trunk', 'wheel']\n"
     ]
    }
   ],
   "source": [
    "print([cat[\"name\"] for cat in cats])"
   ],
   "metadata": {
    "collapsed": false,
    "ExecuteTime": {
     "end_time": "2023-12-25T11:27:59.408923900Z",
     "start_time": "2023-12-25T11:27:59.403137200Z"
    }
   },
   "id": "70559909019fdfac"
  },
  {
   "cell_type": "code",
   "execution_count": 5,
   "outputs": [
    {
     "data": {
      "text/plain": "[1, 2, 3, 4, 5, 6, 7, 8, 9, 10, 11, 12, 13, 14, 15, 16, 17, 18, 19]"
     },
     "execution_count": 5,
     "metadata": {},
     "output_type": "execute_result"
    }
   ],
   "source": [
    "coco.getCatIds()"
   ],
   "metadata": {
    "collapsed": false,
    "ExecuteTime": {
     "end_time": "2023-12-25T11:27:59.453864900Z",
     "start_time": "2023-12-25T11:27:59.406923200Z"
    }
   },
   "id": "7def15aed6903703"
  },
  {
   "cell_type": "code",
   "execution_count": 6,
   "outputs": [
    {
     "name": "stdout",
     "output_type": "stream",
     "text": [
      "_background_ -- 0 -- 0\n",
      "back_bumper -- 101 -- 101\n",
      "back_glass -- 112 -- 112\n",
      "back_left_door -- 122 -- 122\n",
      "back_left_light -- 149 -- 149\n",
      "back_right_door -- 103 -- 103\n",
      "back_right_light -- 119 -- 119\n",
      "front_bumper -- 239 -- 239\n",
      "front_glass -- 218 -- 218\n",
      "front_left_door -- 132 -- 132\n",
      "front_left_light -- 236 -- 236\n",
      "front_right_door -- 105 -- 105\n",
      "front_right_light -- 211 -- 211\n",
      "hood -- 228 -- 228\n",
      "left_mirror -- 240 -- 240\n",
      "right_mirror -- 233 -- 233\n",
      "tailgate -- 50 -- 50\n",
      "trunk -- 82 -- 82\n",
      "wheel -- 279 -- 393\n"
     ]
    }
   ],
   "source": [
    "experiment_dict = dict()\n",
    "\n",
    "for name in [cat[\"name\"] for cat in cats]:\n",
    "    catIds = coco.getCatIds(catNms=[name])\n",
    "    imgIds = coco.getImgIds(catIds=catIds )\n",
    "    annIds = coco.getAnnIds(catIds=catIds )\n",
    "    experiment_dict[name] = annIds\n",
    "    print(f\"{name} -- {len(imgIds)} -- {len(annIds)}\")"
   ],
   "metadata": {
    "collapsed": false,
    "ExecuteTime": {
     "end_time": "2023-12-25T11:27:59.465376800Z",
     "start_time": "2023-12-25T11:27:59.415703800Z"
    }
   },
   "id": "58be4bff37186ca2"
  },
  {
   "cell_type": "code",
   "outputs": [
    {
     "name": "stdout",
     "output_type": "stream",
     "text": [
      "A size 101\n",
      "B size 112\n",
      "Union of both 213\n"
     ]
    }
   ],
   "source": [
    "a = set(experiment_dict[\"back_bumper\"])\n",
    "b = set(experiment_dict[\"back_glass\"])\n",
    "\n",
    "print(f\"A size {len(a)}\")\n",
    "print(f\"B size {len(b)}\")\n",
    "\n",
    "print(f\"Union of both {len(a.union(b))}\")"
   ],
   "metadata": {
    "collapsed": false,
    "ExecuteTime": {
     "end_time": "2023-12-25T11:34:00.216145Z",
     "start_time": "2023-12-25T11:34:00.211120Z"
    }
   },
   "id": "46c6caa6b362ae26",
   "execution_count": 25
  },
  {
   "cell_type": "code",
   "execution_count": 7,
   "outputs": [
    {
     "name": "stdout",
     "output_type": "stream",
     "text": [
      "img ids len 228\n",
      "anns len 1900\n"
     ]
    }
   ],
   "source": [
    "catIds = coco.getCatIds(catNms=[\"hood\"])\n",
    "imgIds = coco.getImgIds(catIds=catIds)\n",
    "\n",
    "print(f\"img ids len {len(imgIds)}\")\n",
    "anns = coco.getAnnIds(imgIds=imgIds)\n",
    "print(f\"anns len {len(anns)}\")"
   ],
   "metadata": {
    "collapsed": false,
    "ExecuteTime": {
     "end_time": "2023-12-25T11:27:59.466381700Z",
     "start_time": "2023-12-25T11:27:59.423226700Z"
    }
   },
   "id": "60b184450a37f495"
  },
  {
   "cell_type": "code",
   "execution_count": 8,
   "outputs": [
    {
     "name": "stdout",
     "output_type": "stream",
     "text": [
      "228\n",
      "393\n"
     ]
    },
    {
     "data": {
      "text/plain": "621"
     },
     "execution_count": 8,
     "metadata": {},
     "output_type": "execute_result"
    }
   ],
   "source": [
    "hood_catIds = coco.getCatIds(catNms=[\"hood\"])\n",
    "front_left_light_catIds = coco.getCatIds(catNms=[\"wheel\"])\n",
    "\n",
    "hood_anns_by_cat = set(coco.getAnnIds(catIds=hood_catIds, iscrowd=None))\n",
    "front_left_light_anns_by_cat = set(coco.getAnnIds(catIds=front_left_light_catIds, iscrowd=None))\n",
    "\n",
    "print(len(hood_anns_by_cat))\n",
    "print(len(front_left_light_anns_by_cat))\n",
    "\n",
    "anns_by_cat = hood_anns_by_cat.union(front_left_light_anns_by_cat)\n",
    "len(anns_by_cat)"
   ],
   "metadata": {
    "collapsed": false,
    "ExecuteTime": {
     "end_time": "2023-12-25T11:27:59.467383200Z",
     "start_time": "2023-12-25T11:27:59.428200300Z"
    }
   },
   "id": "da1abc6f26ea1c68"
  },
  {
   "cell_type": "code",
   "execution_count": 9,
   "outputs": [],
   "source": [
    "hood_imgIds = set(coco.getImgIds(catIds=hood_catIds))\n",
    "front_left_light_imgIds = set(coco.getImgIds(catIds=front_left_light_catIds))\n",
    "\n",
    "hood_anns_by_img = set(coco.getAnnIds(imgIds=hood_imgIds, iscrowd=None))\n",
    "front_left_light_anns_by_img = set(coco.getAnnIds(imgIds=front_left_light_imgIds, iscrowd=None))\n",
    "\n",
    "anns_by_img = hood_anns_by_img.union(front_left_light_anns_by_img)"
   ],
   "metadata": {
    "collapsed": false,
    "ExecuteTime": {
     "end_time": "2023-12-25T11:27:59.538151Z",
     "start_time": "2023-12-25T11:27:59.432941900Z"
    }
   },
   "id": "1b8346e1e0812d62"
  },
  {
   "cell_type": "code",
   "execution_count": 10,
   "outputs": [
    {
     "data": {
      "text/plain": "2909"
     },
     "execution_count": 10,
     "metadata": {},
     "output_type": "execute_result"
    }
   ],
   "source": [
    "len(anns_by_img)"
   ],
   "metadata": {
    "collapsed": false,
    "ExecuteTime": {
     "end_time": "2023-12-25T11:27:59.539152200Z",
     "start_time": "2023-12-25T11:27:59.438947900Z"
    }
   },
   "id": "e1681d812971ff8b"
  },
  {
   "cell_type": "code",
   "execution_count": 11,
   "outputs": [
    {
     "data": {
      "text/plain": "[2, 2053, 8, 2057, 11]"
     },
     "execution_count": 11,
     "metadata": {},
     "output_type": "execute_result"
    }
   ],
   "source": [
    "list(anns_by_cat.intersection(anns_by_img))[:5]"
   ],
   "metadata": {
    "collapsed": false,
    "ExecuteTime": {
     "end_time": "2023-12-25T11:27:59.540150500Z",
     "start_time": "2023-12-25T11:27:59.443284600Z"
    }
   },
   "id": "243755b314d9e5e2"
  },
  {
   "cell_type": "code",
   "execution_count": 12,
   "outputs": [
    {
     "data": {
      "text/plain": "[{'id': 2053,\n  'image_id': 23,\n  'category_id': 14,\n  'segmentation': [[332.7,\n    209.3,\n    338.2,\n    231.4,\n    338.2,\n    241.8,\n    302.3,\n    245.9,\n    292.7,\n    244.5,\n    218.9,\n    245.2,\n    211.3,\n    247.3,\n    177.5,\n    241.1,\n    177.5,\n    231.4,\n    186.5,\n    210.7,\n    200.3,\n    210.7,\n    207.9,\n    205.2,\n    295.4,\n    205.2,\n    311.3,\n    205.9,\n    316.8,\n    209.3]],\n  'area': 5948,\n  'bbox': [178.0, 205.0, 160.0, 42.0],\n  'iscrowd': False,\n  'isbbox': False,\n  'color': '#18a0d1',\n  'metadata': {}}]"
     },
     "execution_count": 12,
     "metadata": {},
     "output_type": "execute_result"
    }
   ],
   "source": [
    "coco.loadAnns([2053])"
   ],
   "metadata": {
    "collapsed": false,
    "ExecuteTime": {
     "end_time": "2023-12-25T11:27:59.541154200Z",
     "start_time": "2023-12-25T11:27:59.447133100Z"
    }
   },
   "id": "b99a788e0c0fd4c5"
  },
  {
   "cell_type": "code",
   "execution_count": 13,
   "outputs": [],
   "source": [
    "# cat_imgIds = list(hood_imgIds.union(front_left_light_imgIds))"
   ],
   "metadata": {
    "collapsed": false,
    "ExecuteTime": {
     "end_time": "2023-12-25T11:27:59.542773200Z",
     "start_time": "2023-12-25T11:27:59.453360100Z"
    }
   },
   "id": "320a2e32239d1510"
  },
  {
   "cell_type": "code",
   "execution_count": 14,
   "outputs": [],
   "source": [
    "\n",
    "# len(anns)"
   ],
   "metadata": {
    "collapsed": false,
    "ExecuteTime": {
     "end_time": "2023-12-25T11:27:59.543278400Z",
     "start_time": "2023-12-25T11:27:59.457412900Z"
    }
   },
   "id": "2797041ee1c0050"
  },
  {
   "cell_type": "code",
   "execution_count": 15,
   "outputs": [],
   "source": [
    "# imgIds[0]"
   ],
   "metadata": {
    "collapsed": false,
    "ExecuteTime": {
     "end_time": "2023-12-25T11:27:59.543278400Z",
     "start_time": "2023-12-25T11:27:59.459922100Z"
    }
   },
   "id": "166bcd8c662d3bea"
  },
  {
   "cell_type": "code",
   "execution_count": 16,
   "outputs": [],
   "source": [
    "# coco.getAnnIds(imgIds=imgIds[0], iscrowd=None)"
   ],
   "metadata": {
    "collapsed": false,
    "ExecuteTime": {
     "end_time": "2023-12-25T11:27:59.553790Z",
     "start_time": "2023-12-25T11:27:59.463142300Z"
    }
   },
   "id": "53d1c563f32ff612"
  },
  {
   "cell_type": "code",
   "execution_count": 17,
   "outputs": [
    {
     "data": {
      "text/plain": "{2: 'a', 3: 'a', 5: 'b', 6: 'b'}"
     },
     "execution_count": 17,
     "metadata": {},
     "output_type": "execute_result"
    }
   ],
   "source": [
    "simple = {\"a\": [2,3], \"b\": [5,6]}\n",
    "res = dict()\n",
    "\n",
    "for item in simple.items():\n",
    "    for value in item[1]:\n",
    "        if value in res.keys():\n",
    "            raise AttributeError\n",
    "        res[value] = item[0]\n",
    "    \n",
    "# res = dict((v,k) for k,v in a.items())\n",
    "res"
   ],
   "metadata": {
    "collapsed": false,
    "ExecuteTime": {
     "end_time": "2023-12-25T11:27:59.556797400Z",
     "start_time": "2023-12-25T11:27:59.468383400Z"
    }
   },
   "id": "94519d764c5daa99"
  },
  {
   "cell_type": "code",
   "execution_count": 18,
   "outputs": [],
   "source": [
    "# for i in range(10):\n",
    "    # print(f\"ImgId: {imgIds[i]} -- {coco.getAnnIds(imgIds=imgIds[i], catIds=[hood_catIds], iscrowd=None)}\")"
   ],
   "metadata": {
    "collapsed": false,
    "ExecuteTime": {
     "end_time": "2023-12-25T11:27:59.557796100Z",
     "start_time": "2023-12-25T11:27:59.473033Z"
    }
   },
   "id": "988d4a5d0f1431c"
  },
  {
   "cell_type": "code",
   "execution_count": 19,
   "outputs": [],
   "source": [
    "# for i in range(10):\n",
    "    # print(f\"ImgId: {imgIds[i]} -- {coco.getAnnIds(imgIds=imgIds[i], iscrowd=None)}\")"
   ],
   "metadata": {
    "collapsed": false,
    "ExecuteTime": {
     "end_time": "2023-12-25T11:27:59.558796200Z",
     "start_time": "2023-12-25T11:27:59.477490800Z"
    }
   },
   "id": "90d3c698b334caa6"
  },
  {
   "cell_type": "code",
   "execution_count": 19,
   "outputs": [],
   "source": [],
   "metadata": {
    "collapsed": false,
    "ExecuteTime": {
     "end_time": "2023-12-25T11:27:59.564304900Z",
     "start_time": "2023-12-25T11:27:59.481025100Z"
    }
   },
   "id": "4ce1be6d4f9878eb"
  },
  {
   "cell_type": "code",
   "execution_count": 19,
   "outputs": [],
   "source": [],
   "metadata": {
    "collapsed": false,
    "ExecuteTime": {
     "end_time": "2023-12-25T11:27:59.565304900Z",
     "start_time": "2023-12-25T11:27:59.482031100Z"
    }
   },
   "id": "e70930213ccf619f"
  },
  {
   "cell_type": "code",
   "execution_count": 19,
   "outputs": [],
   "source": [],
   "metadata": {
    "collapsed": false,
    "ExecuteTime": {
     "end_time": "2023-12-25T11:27:59.565304900Z",
     "start_time": "2023-12-25T11:27:59.485934700Z"
    }
   },
   "id": "40ea0d46c52aef50"
  },
  {
   "cell_type": "code",
   "execution_count": 19,
   "outputs": [],
   "source": [],
   "metadata": {
    "collapsed": false,
    "ExecuteTime": {
     "end_time": "2023-12-25T11:27:59.566305700Z",
     "start_time": "2023-12-25T11:27:59.488305500Z"
    }
   },
   "id": "ceea18f4dea920e9"
  },
  {
   "cell_type": "code",
   "execution_count": 19,
   "outputs": [],
   "source": [],
   "metadata": {
    "collapsed": false,
    "ExecuteTime": {
     "end_time": "2023-12-25T11:27:59.567310400Z",
     "start_time": "2023-12-25T11:27:59.489814600Z"
    }
   },
   "id": "ab8d0deaa9155716"
  },
  {
   "cell_type": "code",
   "execution_count": 19,
   "outputs": [],
   "source": [],
   "metadata": {
    "collapsed": false,
    "ExecuteTime": {
     "end_time": "2023-12-25T11:27:59.632036900Z",
     "start_time": "2023-12-25T11:27:59.493537100Z"
    }
   },
   "id": "6e4441a201bd6f18"
  },
  {
   "cell_type": "code",
   "execution_count": 19,
   "outputs": [],
   "source": [],
   "metadata": {
    "collapsed": false,
    "ExecuteTime": {
     "end_time": "2023-12-25T11:27:59.632986600Z",
     "start_time": "2023-12-25T11:27:59.496359600Z"
    }
   },
   "id": "9baedcf90923e1b2"
  },
  {
   "cell_type": "code",
   "execution_count": 19,
   "outputs": [],
   "source": [],
   "metadata": {
    "collapsed": false,
    "ExecuteTime": {
     "end_time": "2023-12-25T11:27:59.632986600Z",
     "start_time": "2023-12-25T11:27:59.497870400Z"
    }
   },
   "id": "f4233969e5f4cb0e"
  },
  {
   "cell_type": "code",
   "execution_count": 19,
   "outputs": [],
   "source": [],
   "metadata": {
    "collapsed": false,
    "ExecuteTime": {
     "end_time": "2023-12-25T11:27:59.633987600Z",
     "start_time": "2023-12-25T11:27:59.501307500Z"
    }
   },
   "id": "359b26666ad5b1b8"
  },
  {
   "cell_type": "code",
   "execution_count": 19,
   "outputs": [],
   "source": [],
   "metadata": {
    "collapsed": false,
    "ExecuteTime": {
     "end_time": "2023-12-25T11:27:59.634987400Z",
     "start_time": "2023-12-25T11:27:59.503321800Z"
    }
   },
   "id": "a803fb3199a62b5e"
  },
  {
   "cell_type": "code",
   "execution_count": 19,
   "outputs": [],
   "source": [],
   "metadata": {
    "collapsed": false,
    "ExecuteTime": {
     "end_time": "2023-12-25T11:27:59.635987400Z",
     "start_time": "2023-12-25T11:27:59.506333300Z"
    }
   },
   "id": "ff6a6ada3b55178c"
  },
  {
   "cell_type": "code",
   "execution_count": 19,
   "outputs": [],
   "source": [],
   "metadata": {
    "collapsed": false,
    "ExecuteTime": {
     "end_time": "2023-12-25T11:27:59.636987800Z",
     "start_time": "2023-12-25T11:27:59.509165Z"
    }
   },
   "id": "52baa39b4d356f73"
  }
 ],
 "metadata": {
  "kernelspec": {
   "display_name": "Python 3",
   "language": "python",
   "name": "python3"
  },
  "language_info": {
   "codemirror_mode": {
    "name": "ipython",
    "version": 2
   },
   "file_extension": ".py",
   "mimetype": "text/x-python",
   "name": "python",
   "nbconvert_exporter": "python",
   "pygments_lexer": "ipython2",
   "version": "2.7.6"
  }
 },
 "nbformat": 4,
 "nbformat_minor": 5
}
