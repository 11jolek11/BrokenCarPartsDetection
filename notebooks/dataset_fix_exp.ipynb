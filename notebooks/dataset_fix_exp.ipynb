{
 "cells": [
  {
   "cell_type": "code",
   "execution_count": 17,
   "id": "initial_id",
   "metadata": {
    "collapsed": true,
    "ExecuteTime": {
     "end_time": "2023-12-20T10:15:41.095374500Z",
     "start_time": "2023-12-20T10:15:41.064299600Z"
    }
   },
   "outputs": [],
   "source": [
    "from pycocotools.coco import COCO"
   ]
  },
  {
   "cell_type": "code",
   "execution_count": 18,
   "outputs": [
    {
     "name": "stdout",
     "output_type": "stream",
     "text": [
      "loading annotations into memory...\n",
      "Done (t=0.03s)\n",
      "creating index...\n",
      "index created!\n"
     ]
    }
   ],
   "source": [
    "coco = COCO(\"../data/Car-Parts-Segmentation-master/Car-Parts-Segmentation-master/trainingset/annotations.json\")"
   ],
   "metadata": {
    "collapsed": false,
    "ExecuteTime": {
     "end_time": "2023-12-20T10:15:41.150451900Z",
     "start_time": "2023-12-20T10:15:41.091373900Z"
    }
   },
   "id": "42b7400e6efa40a2"
  },
  {
   "cell_type": "code",
   "execution_count": 19,
   "outputs": [],
   "source": [
    "cats = coco.loadCats(coco.getCatIds())"
   ],
   "metadata": {
    "collapsed": false,
    "ExecuteTime": {
     "end_time": "2023-12-20T10:15:41.163799300Z",
     "start_time": "2023-12-20T10:15:41.153186800Z"
    }
   },
   "id": "8c6d4e45c6a4b9bc"
  },
  {
   "cell_type": "code",
   "execution_count": 20,
   "outputs": [
    {
     "name": "stdout",
     "output_type": "stream",
     "text": [
      "['_background_', 'back_bumper', 'back_glass', 'back_left_door', 'back_left_light', 'back_right_door', 'back_right_light', 'front_bumper', 'front_glass', 'front_left_door', 'front_left_light', 'front_right_door', 'front_right_light', 'hood', 'left_mirror', 'right_mirror', 'tailgate', 'trunk', 'wheel']\n"
     ]
    }
   ],
   "source": [
    "print([cat[\"name\"] for cat in cats])"
   ],
   "metadata": {
    "collapsed": false,
    "ExecuteTime": {
     "end_time": "2023-12-20T10:15:41.175502200Z",
     "start_time": "2023-12-20T10:15:41.165699Z"
    }
   },
   "id": "70559909019fdfac"
  },
  {
   "cell_type": "code",
   "execution_count": 21,
   "outputs": [
    {
     "data": {
      "text/plain": "[1, 2, 3, 4, 5, 6, 7, 8, 9, 10, 11, 12, 13, 14, 15, 16, 17, 18, 19]"
     },
     "execution_count": 21,
     "metadata": {},
     "output_type": "execute_result"
    }
   ],
   "source": [
    "coco.getCatIds()"
   ],
   "metadata": {
    "collapsed": false,
    "ExecuteTime": {
     "end_time": "2023-12-20T10:15:41.205762100Z",
     "start_time": "2023-12-20T10:15:41.169447200Z"
    }
   },
   "id": "7def15aed6903703"
  },
  {
   "cell_type": "code",
   "execution_count": 22,
   "outputs": [
    {
     "name": "stdout",
     "output_type": "stream",
     "text": [
      "_background_ -- 0\n",
      "back_bumper -- 101\n",
      "back_glass -- 112\n",
      "back_left_door -- 122\n",
      "back_left_light -- 149\n",
      "back_right_door -- 103\n",
      "back_right_light -- 119\n",
      "front_bumper -- 239\n",
      "front_glass -- 218\n",
      "front_left_door -- 132\n",
      "front_left_light -- 236\n",
      "front_right_door -- 105\n",
      "front_right_light -- 211\n",
      "hood -- 228\n",
      "left_mirror -- 240\n",
      "right_mirror -- 233\n",
      "tailgate -- 50\n",
      "trunk -- 82\n",
      "wheel -- 279\n"
     ]
    }
   ],
   "source": [
    "for name in [cat[\"name\"] for cat in cats]:\n",
    "    catIds = coco.getCatIds(catNms=[name])\n",
    "    imgIds = coco.getImgIds(catIds=catIds )\n",
    "    print(f\"{name} -- {len(imgIds)}\")"
   ],
   "metadata": {
    "collapsed": false,
    "ExecuteTime": {
     "end_time": "2023-12-20T10:15:41.208781600Z",
     "start_time": "2023-12-20T10:15:41.178500600Z"
    }
   },
   "id": "58be4bff37186ca2"
  },
  {
   "cell_type": "code",
   "execution_count": 23,
   "outputs": [
    {
     "name": "stdout",
     "output_type": "stream",
     "text": [
      "228\n",
      "393\n"
     ]
    },
    {
     "data": {
      "text/plain": "621"
     },
     "execution_count": 23,
     "metadata": {},
     "output_type": "execute_result"
    }
   ],
   "source": [
    "hood_catIds = coco.getCatIds(catNms=[\"hood\"])\n",
    "front_left_light_catIds = coco.getCatIds(catNms=[\"wheel\"])\n",
    "\n",
    "\n",
    "hood_anns_by_cat = set(coco.getAnnIds(catIds=hood_catIds, iscrowd=None))\n",
    "front_left_light_anns_by_cat = set(coco.getAnnIds(catIds=front_left_light_catIds, iscrowd=None))\n",
    "\n",
    "print(len(hood_anns_by_cat))\n",
    "print(len(front_left_light_anns_by_cat))\n",
    "\n",
    "anns_by_cat = hood_anns_by_cat.union(front_left_light_anns_by_cat)\n",
    "len(anns_by_cat)"
   ],
   "metadata": {
    "collapsed": false,
    "ExecuteTime": {
     "end_time": "2023-12-20T10:15:41.248366800Z",
     "start_time": "2023-12-20T10:15:41.212303500Z"
    }
   },
   "id": "da1abc6f26ea1c68"
  },
  {
   "cell_type": "code",
   "execution_count": 24,
   "outputs": [],
   "source": [
    "hood_imgIds = set(coco.getImgIds(catIds=hood_catIds))\n",
    "front_left_light_imgIds = set(coco.getImgIds(catIds=front_left_light_catIds))\n",
    "\n",
    "hood_anns_by_img = set(coco.getAnnIds(imgIds=hood_imgIds, iscrowd=None))\n",
    "front_left_light_anns_by_img = set(coco.getAnnIds(imgIds=front_left_light_imgIds, iscrowd=None))\n",
    "\n",
    "anns_by_img = hood_anns_by_img.union(front_left_light_anns_by_img)"
   ],
   "metadata": {
    "collapsed": false,
    "ExecuteTime": {
     "end_time": "2023-12-20T10:15:41.280328100Z",
     "start_time": "2023-12-20T10:15:41.250367200Z"
    }
   },
   "id": "1b8346e1e0812d62"
  },
  {
   "cell_type": "code",
   "execution_count": 25,
   "outputs": [
    {
     "data": {
      "text/plain": "2909"
     },
     "execution_count": 25,
     "metadata": {},
     "output_type": "execute_result"
    }
   ],
   "source": [
    "len(anns_by_img)"
   ],
   "metadata": {
    "collapsed": false,
    "ExecuteTime": {
     "end_time": "2023-12-20T10:15:41.295951800Z",
     "start_time": "2023-12-20T10:15:41.283231100Z"
    }
   },
   "id": "e1681d812971ff8b"
  },
  {
   "cell_type": "code",
   "execution_count": 26,
   "outputs": [
    {
     "data": {
      "text/plain": "621"
     },
     "execution_count": 26,
     "metadata": {},
     "output_type": "execute_result"
    }
   ],
   "source": [
    "len(anns_by_cat.intersection(anns_by_img))"
   ],
   "metadata": {
    "collapsed": false,
    "ExecuteTime": {
     "end_time": "2023-12-20T10:15:41.305946100Z",
     "start_time": "2023-12-20T10:15:41.298958600Z"
    }
   },
   "id": "243755b314d9e5e2"
  },
  {
   "cell_type": "code",
   "execution_count": 27,
   "outputs": [],
   "source": [
    "# cat_imgIds = list(hood_imgIds.union(front_left_light_imgIds))"
   ],
   "metadata": {
    "collapsed": false,
    "ExecuteTime": {
     "end_time": "2023-12-20T10:15:41.330999500Z",
     "start_time": "2023-12-20T10:15:41.303243600Z"
    }
   },
   "id": "320a2e32239d1510"
  },
  {
   "cell_type": "code",
   "execution_count": 28,
   "outputs": [],
   "source": [
    "\n",
    "# len(anns)"
   ],
   "metadata": {
    "collapsed": false,
    "ExecuteTime": {
     "end_time": "2023-12-20T10:15:41.333006Z",
     "start_time": "2023-12-20T10:15:41.308466800Z"
    }
   },
   "id": "2797041ee1c0050"
  },
  {
   "cell_type": "code",
   "execution_count": 29,
   "outputs": [],
   "source": [
    "# imgIds[0]"
   ],
   "metadata": {
    "collapsed": false,
    "ExecuteTime": {
     "end_time": "2023-12-20T10:15:41.348075100Z",
     "start_time": "2023-12-20T10:15:41.335564900Z"
    }
   },
   "id": "166bcd8c662d3bea"
  },
  {
   "cell_type": "code",
   "execution_count": 30,
   "outputs": [],
   "source": [
    "# coco.getAnnIds(imgIds=imgIds[0], iscrowd=None)"
   ],
   "metadata": {
    "collapsed": false,
    "ExecuteTime": {
     "end_time": "2023-12-20T10:15:41.360026800Z",
     "start_time": "2023-12-20T10:15:41.350586400Z"
    }
   },
   "id": "53d1c563f32ff612"
  },
  {
   "cell_type": "code",
   "execution_count": 31,
   "outputs": [
    {
     "data": {
      "text/plain": "{2: 'a', 3: 'a', 5: 'b', 6: 'b'}"
     },
     "execution_count": 31,
     "metadata": {},
     "output_type": "execute_result"
    }
   ],
   "source": [
    "simple = {\"a\": [2,3], \"b\": [5,6]}\n",
    "res = dict()\n",
    "\n",
    "for item in simple.items():\n",
    "    for value in item[1]:\n",
    "        if value in res.keys():\n",
    "            raise AttributeError\n",
    "        res[value] = item[0]\n",
    "    \n",
    "# res = dict((v,k) for k,v in a.items())\n",
    "res"
   ],
   "metadata": {
    "collapsed": false,
    "ExecuteTime": {
     "end_time": "2023-12-20T10:15:41.368741400Z",
     "start_time": "2023-12-20T10:15:41.355095800Z"
    }
   },
   "id": "94519d764c5daa99"
  },
  {
   "cell_type": "code",
   "execution_count": 32,
   "outputs": [],
   "source": [
    "# for i in range(10):\n",
    "    # print(f\"ImgId: {imgIds[i]} -- {coco.getAnnIds(imgIds=imgIds[i], catIds=[hood_catIds], iscrowd=None)}\")"
   ],
   "metadata": {
    "collapsed": false,
    "ExecuteTime": {
     "end_time": "2023-12-20T10:15:41.371740500Z",
     "start_time": "2023-12-20T10:15:41.362735600Z"
    }
   },
   "id": "988d4a5d0f1431c"
  },
  {
   "cell_type": "code",
   "execution_count": 33,
   "outputs": [],
   "source": [
    "# for i in range(10):\n",
    "    # print(f\"ImgId: {imgIds[i]} -- {coco.getAnnIds(imgIds=imgIds[i], iscrowd=None)}\")"
   ],
   "metadata": {
    "collapsed": false,
    "ExecuteTime": {
     "end_time": "2023-12-20T10:15:41.382396400Z",
     "start_time": "2023-12-20T10:15:41.374740100Z"
    }
   },
   "id": "90d3c698b334caa6"
  },
  {
   "cell_type": "code",
   "execution_count": 33,
   "outputs": [],
   "source": [],
   "metadata": {
    "collapsed": false,
    "ExecuteTime": {
     "end_time": "2023-12-20T10:15:41.383395200Z",
     "start_time": "2023-12-20T10:15:41.378389200Z"
    }
   },
   "id": "4ce1be6d4f9878eb"
  },
  {
   "cell_type": "code",
   "execution_count": 33,
   "outputs": [],
   "source": [],
   "metadata": {
    "collapsed": false,
    "ExecuteTime": {
     "end_time": "2023-12-20T10:15:41.405309100Z",
     "start_time": "2023-12-20T10:15:41.386587Z"
    }
   },
   "id": "e70930213ccf619f"
  },
  {
   "cell_type": "code",
   "execution_count": 33,
   "outputs": [],
   "source": [],
   "metadata": {
    "collapsed": false,
    "ExecuteTime": {
     "end_time": "2023-12-20T10:15:41.407309800Z",
     "start_time": "2023-12-20T10:15:41.394260500Z"
    }
   },
   "id": "40ea0d46c52aef50"
  },
  {
   "cell_type": "code",
   "execution_count": 33,
   "outputs": [],
   "source": [],
   "metadata": {
    "collapsed": false,
    "ExecuteTime": {
     "end_time": "2023-12-20T10:15:41.419296300Z",
     "start_time": "2023-12-20T10:15:41.410010500Z"
    }
   },
   "id": "ceea18f4dea920e9"
  },
  {
   "cell_type": "code",
   "execution_count": 33,
   "outputs": [],
   "source": [],
   "metadata": {
    "collapsed": false,
    "ExecuteTime": {
     "end_time": "2023-12-20T10:15:41.420298300Z",
     "start_time": "2023-12-20T10:15:41.413291900Z"
    }
   },
   "id": "ab8d0deaa9155716"
  },
  {
   "cell_type": "code",
   "execution_count": 33,
   "outputs": [],
   "source": [],
   "metadata": {
    "collapsed": false,
    "ExecuteTime": {
     "end_time": "2023-12-20T10:15:41.438464700Z",
     "start_time": "2023-12-20T10:15:41.421947Z"
    }
   },
   "id": "6e4441a201bd6f18"
  },
  {
   "cell_type": "code",
   "execution_count": 33,
   "outputs": [],
   "source": [],
   "metadata": {
    "collapsed": false,
    "ExecuteTime": {
     "end_time": "2023-12-20T10:15:41.446859400Z",
     "start_time": "2023-12-20T10:15:41.440854300Z"
    }
   },
   "id": "9baedcf90923e1b2"
  },
  {
   "cell_type": "code",
   "execution_count": 33,
   "outputs": [],
   "source": [],
   "metadata": {
    "collapsed": false,
    "ExecuteTime": {
     "end_time": "2023-12-20T10:15:41.455248800Z",
     "start_time": "2023-12-20T10:15:41.450242200Z"
    }
   },
   "id": "f4233969e5f4cb0e"
  },
  {
   "cell_type": "code",
   "execution_count": 33,
   "outputs": [],
   "source": [],
   "metadata": {
    "collapsed": false,
    "ExecuteTime": {
     "end_time": "2023-12-20T10:15:41.465090200Z",
     "start_time": "2023-12-20T10:15:41.458050600Z"
    }
   },
   "id": "359b26666ad5b1b8"
  },
  {
   "cell_type": "code",
   "execution_count": 33,
   "outputs": [],
   "source": [],
   "metadata": {
    "collapsed": false,
    "ExecuteTime": {
     "end_time": "2023-12-20T10:15:41.466065500Z",
     "start_time": "2023-12-20T10:15:41.459055100Z"
    }
   },
   "id": "a803fb3199a62b5e"
  },
  {
   "cell_type": "code",
   "execution_count": 33,
   "outputs": [],
   "source": [],
   "metadata": {
    "collapsed": false,
    "ExecuteTime": {
     "end_time": "2023-12-20T10:15:41.474414Z",
     "start_time": "2023-12-20T10:15:41.467488100Z"
    }
   },
   "id": "ff6a6ada3b55178c"
  },
  {
   "cell_type": "code",
   "execution_count": 33,
   "outputs": [],
   "source": [],
   "metadata": {
    "collapsed": false,
    "ExecuteTime": {
     "end_time": "2023-12-20T10:15:41.475414Z",
     "start_time": "2023-12-20T10:15:41.469883500Z"
    }
   },
   "id": "52baa39b4d356f73"
  }
 ],
 "metadata": {
  "kernelspec": {
   "display_name": "Python 3",
   "language": "python",
   "name": "python3"
  },
  "language_info": {
   "codemirror_mode": {
    "name": "ipython",
    "version": 2
   },
   "file_extension": ".py",
   "mimetype": "text/x-python",
   "name": "python",
   "nbconvert_exporter": "python",
   "pygments_lexer": "ipython2",
   "version": "2.7.6"
  }
 },
 "nbformat": 4,
 "nbformat_minor": 5
}
