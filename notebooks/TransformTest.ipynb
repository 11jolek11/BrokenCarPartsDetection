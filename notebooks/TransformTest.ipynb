{
 "cells": [
  {
   "cell_type": "code",
   "execution_count": 102,
   "id": "initial_id",
   "metadata": {
    "collapsed": true,
    "ExecuteTime": {
     "end_time": "2023-11-21T11:23:09.413422100Z",
     "start_time": "2023-11-21T11:23:09.397127600Z"
    }
   },
   "outputs": [],
   "source": []
  },
  {
   "cell_type": "code",
   "execution_count": 103,
   "outputs": [],
   "source": [
    "import torch\n",
    "import torchvision.transforms\n",
    "from torch.utils.data import Dataset\n",
    "from torchvision.transforms import v2\n",
    "import cv2\n",
    "from torchvision.io import read_image as torch_read_image\n",
    "from pathlib import Path\n",
    "import numpy as np"
   ],
   "metadata": {
    "collapsed": false,
    "ExecuteTime": {
     "end_time": "2023-11-21T11:23:09.413422100Z",
     "start_time": "2023-11-21T11:23:09.401705500Z"
    }
   },
   "id": "a6c0b39764e9e3d5"
  },
  {
   "cell_type": "code",
   "execution_count": 104,
   "outputs": [],
   "source": [
    "transforms = v2.Compose([\n",
    "    v2.ToImage(),\n",
    "    v2.Resize([32, 32]),\n",
    "    v2.ToDtype(torch.uint8, scale=True),\n",
    "])"
   ],
   "metadata": {
    "collapsed": false,
    "ExecuteTime": {
     "end_time": "2023-11-21T11:23:09.413422100Z",
     "start_time": "2023-11-21T11:23:09.405186500Z"
    }
   },
   "id": "18de3a18773c7bd"
  },
  {
   "cell_type": "code",
   "execution_count": 105,
   "outputs": [
    {
     "name": "stdout",
     "output_type": "stream",
     "text": [
      "<class 'numpy.ndarray'>\n"
     ]
    }
   ],
   "source": [
    "img = cv2.imread(\"./CarPartsDatasetExperimentDir/car6_edge.jpg\")\n",
    "# print(np.unique(img))\n",
    "print(type(img))\n",
    "\n",
    "transformed = transforms(img)\n",
    "transformed = torch.where(transformed > 100, 1, 0)"
   ],
   "metadata": {
    "collapsed": false,
    "ExecuteTime": {
     "end_time": "2023-11-21T11:23:09.414630300Z",
     "start_time": "2023-11-21T11:23:09.409421Z"
    }
   },
   "id": "d110b352a4c6a598"
  },
  {
   "cell_type": "code",
   "execution_count": 106,
   "outputs": [],
   "source": [
    "# pil_image_tr = v2.ToPILImage()\n",
    "# pil_img = pil_image_tr(transformed)\n",
    "\n",
    "# pil_img.show()\n",
    "# print(torch.unique(transformed))"
   ],
   "metadata": {
    "collapsed": false,
    "ExecuteTime": {
     "end_time": "2023-11-21T11:23:09.429094900Z",
     "start_time": "2023-11-21T11:23:09.416630200Z"
    }
   },
   "id": "581a3e42091a38ae"
  },
  {
   "cell_type": "code",
   "execution_count": 107,
   "outputs": [
    {
     "data": {
      "text/plain": "tensor([0, 1])"
     },
     "execution_count": 107,
     "metadata": {},
     "output_type": "execute_result"
    }
   ],
   "source": [
    "torch.unique(transformed)"
   ],
   "metadata": {
    "collapsed": false,
    "ExecuteTime": {
     "end_time": "2023-11-21T11:23:09.429094900Z",
     "start_time": "2023-11-21T11:23:09.419542400Z"
    }
   },
   "id": "67a4f148c8292f4a"
  },
  {
   "cell_type": "code",
   "execution_count": 108,
   "outputs": [],
   "source": [
    "import numpy as np"
   ],
   "metadata": {
    "collapsed": false,
    "ExecuteTime": {
     "end_time": "2023-11-21T11:23:09.429094900Z",
     "start_time": "2023-11-21T11:23:09.424605200Z"
    }
   },
   "id": "bff99fcf6d9d56ad"
  },
  {
   "cell_type": "code",
   "execution_count": 109,
   "outputs": [
    {
     "name": "stdout",
     "output_type": "stream",
     "text": [
      "(206, 105, 3)\n",
      "(206, 105, 3)\n",
      "[0 1]\n"
     ]
    }
   ],
   "source": [
    "print(img.shape)\n",
    "img = np.where(img > 100, 1, 0)\n",
    "print(img.shape)\n",
    "print(np.unique(img))"
   ],
   "metadata": {
    "collapsed": false,
    "ExecuteTime": {
     "end_time": "2023-11-21T11:23:09.435454800Z",
     "start_time": "2023-11-21T11:23:09.428094700Z"
    }
   },
   "id": "4c3468d64a9725da"
  }
 ],
 "metadata": {
  "kernelspec": {
   "display_name": "Python 3",
   "language": "python",
   "name": "python3"
  },
  "language_info": {
   "codemirror_mode": {
    "name": "ipython",
    "version": 2
   },
   "file_extension": ".py",
   "mimetype": "text/x-python",
   "name": "python",
   "nbconvert_exporter": "python",
   "pygments_lexer": "ipython2",
   "version": "2.7.6"
  }
 },
 "nbformat": 4,
 "nbformat_minor": 5
}
