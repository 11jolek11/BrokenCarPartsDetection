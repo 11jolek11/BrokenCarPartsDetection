{
 "cells": [
  {
   "cell_type": "code",
   "execution_count": 34,
   "id": "initial_id",
   "metadata": {
    "collapsed": true,
    "ExecuteTime": {
     "end_time": "2023-11-27T22:57:18.214633900Z",
     "start_time": "2023-11-27T22:57:17.610573400Z"
    }
   },
   "outputs": [],
   "source": [
    "import numpy as np\n",
    "import matplotlib\n",
    "import matplotlib.pyplot as plt\n",
    "from PIL import Image\n",
    "import requests\n",
    "import matplotlib.image as mpimg\n",
    "from pycocotools.coco import COCO"
   ]
  },
  {
   "cell_type": "code",
   "execution_count": 35,
   "outputs": [
    {
     "name": "stdout",
     "output_type": "stream",
     "text": [
      "loading annotations into memory...\n",
      "Done (t=0.01s)\n",
      "creating index...\n",
      "index created!\n"
     ]
    }
   ],
   "source": [
    "data_dir = \"../data/Car-Parts-Segmentation-master/Car-Parts-Segmentation-master/testset\"\n",
    "annotations_file = \"{}/annotations.json\".format(data_dir)\n",
    "\n",
    "coco = COCO(annotations_file)"
   ],
   "metadata": {
    "collapsed": false,
    "ExecuteTime": {
     "end_time": "2023-11-27T22:57:18.222123100Z",
     "start_time": "2023-11-27T22:57:17.614785300Z"
    }
   },
   "id": "9bc672182fe35ef3"
  },
  {
   "cell_type": "code",
   "execution_count": 36,
   "outputs": [
    {
     "name": "stdout",
     "output_type": "stream",
     "text": [
      "['_background_', 'back_bumper', 'back_glass', 'back_left_door', 'back_left_light', 'back_right_door', 'back_right_light', 'front_bumper', 'front_glass', 'front_left_door', 'front_left_light', 'front_right_door', 'front_right_light', 'hood', 'left_mirror', 'right_mirror', 'tailgate', 'trunk', 'wheel']\n"
     ]
    }
   ],
   "source": [
    "cats = coco.loadCats(coco.getCatIds())\n",
    "print([cat[\"name\"] for cat in cats])"
   ],
   "metadata": {
    "collapsed": false,
    "ExecuteTime": {
     "end_time": "2023-11-27T22:57:18.222123100Z",
     "start_time": "2023-11-27T22:57:17.627293700Z"
    }
   },
   "id": "9e0af4012199c174"
  },
  {
   "cell_type": "code",
   "execution_count": 37,
   "outputs": [
    {
     "data": {
      "text/plain": "35"
     },
     "execution_count": 37,
     "metadata": {},
     "output_type": "execute_result"
    }
   ],
   "source": [
    "# catIds = coco.getCatIds(catNms=[\"*_door\"])\n",
    "\n",
    "# len(imgs) == len(anns) -> True only because I am using only single Category!!!!\n",
    "catIds = coco.getCatIds(catNms=[\"front_left_door\"])\n",
    "imgIds = coco.getImgIds(catIds=catIds )\n",
    "len(imgIds)"
   ],
   "metadata": {
    "collapsed": false,
    "ExecuteTime": {
     "end_time": "2023-11-27T22:57:18.222123100Z",
     "start_time": "2023-11-27T22:57:17.630943200Z"
    }
   },
   "id": "68a11205a891a6bc"
  },
  {
   "cell_type": "code",
   "execution_count": 38,
   "outputs": [
    {
     "name": "stdout",
     "output_type": "stream",
     "text": [
      "_background_ -- 0\n",
      "back_bumper -- 18\n",
      "back_glass -- 20\n",
      "back_left_door -- 31\n",
      "back_left_light -- 20\n",
      "back_right_door -- 29\n",
      "back_right_light -- 20\n",
      "front_bumper -- 74\n",
      "front_glass -- 74\n",
      "front_left_door -- 35\n",
      "front_left_light -- 62\n",
      "front_right_door -- 39\n",
      "front_right_light -- 67\n",
      "hood -- 74\n",
      "left_mirror -- 55\n",
      "right_mirror -- 60\n",
      "tailgate -- 7\n",
      "trunk -- 18\n",
      "wheel -- 76\n"
     ]
    }
   ],
   "source": [
    "for name in [cat[\"name\"] for cat in cats]:\n",
    "    catIds = coco.getCatIds(catNms=[name])\n",
    "    imgIds = coco.getImgIds(catIds=catIds )\n",
    "    print(f\"{name} -- {len(imgIds)}\")"
   ],
   "metadata": {
    "collapsed": false,
    "ExecuteTime": {
     "end_time": "2023-11-27T22:57:18.223123900Z",
     "start_time": "2023-11-27T22:57:17.635963400Z"
    }
   },
   "id": "ee5705bd4a19e250"
  },
  {
   "cell_type": "code",
   "execution_count": 39,
   "outputs": [],
   "source": [
    "imgs = coco.loadImgs(imgIds)\n",
    "\n",
    "annIds = coco.getAnnIds(imgIds=[img[\"id\"] for img in imgs], catIds=catIds, iscrowd=None)\n",
    "anns = coco.loadAnns(annIds)"
   ],
   "metadata": {
    "collapsed": false,
    "ExecuteTime": {
     "end_time": "2023-11-27T22:57:18.494902100Z",
     "start_time": "2023-11-27T22:57:17.640550900Z"
    }
   },
   "id": "cee70325d0e80ec0"
  },
  {
   "cell_type": "code",
   "execution_count": 40,
   "outputs": [
    {
     "data": {
      "text/plain": "{'id': 3466,\n 'image_id': 401,\n 'category_id': 19,\n 'segmentation': [[368.5,\n   615.3,\n   352.5,\n   637.8,\n   350.8,\n   701.8,\n   357.4,\n   732.9,\n   367.2,\n   752.6,\n   377.0,\n   765.7,\n   408.2,\n   770.6,\n   433.7,\n   742.0,\n   414.2,\n   703.9,\n   405.5,\n   696.8,\n   404.9,\n   676.2,\n   401.6,\n   652.6,\n   390.2,\n   631.3]],\n 'area': 7906,\n 'bbox': [351.0, 615.0, 83.0, 155.0],\n 'iscrowd': False,\n 'isbbox': False,\n 'color': '#e459ea',\n 'metadata': {}}"
     },
     "execution_count": 40,
     "metadata": {},
     "output_type": "execute_result"
    }
   ],
   "source": [
    "anns[0]"
   ],
   "metadata": {
    "collapsed": false,
    "ExecuteTime": {
     "end_time": "2023-11-27T22:57:18.501229900Z",
     "start_time": "2023-11-27T22:57:17.644404300Z"
    }
   },
   "id": "babdee0cc7f66591"
  },
  {
   "cell_type": "code",
   "execution_count": 41,
   "outputs": [
    {
     "data": {
      "text/plain": "{'id': 401,\n 'dataset_id': 3,\n 'category_ids': [],\n 'path': 'JPEGImages/car10.jpg',\n 'width': 1024,\n 'height': 861,\n 'file_name': 'car10.jpg',\n 'annotated': False,\n 'annotating': [],\n 'num_annotations': 0,\n 'metadata': {},\n 'deleted': False,\n 'milliseconds': 0,\n 'events': [],\n 'regenerate_thumbnail': False}"
     },
     "execution_count": 41,
     "metadata": {},
     "output_type": "execute_result"
    }
   ],
   "source": [
    "imgs[0]"
   ],
   "metadata": {
    "collapsed": false,
    "ExecuteTime": {
     "end_time": "2023-11-27T22:57:18.501229900Z",
     "start_time": "2023-11-27T22:57:17.648906500Z"
    }
   },
   "id": "3493066414ff5e93"
  },
  {
   "cell_type": "code",
   "execution_count": 42,
   "outputs": [
    {
     "data": {
      "text/plain": "False"
     },
     "execution_count": 42,
     "metadata": {},
     "output_type": "execute_result"
    }
   ],
   "source": [
    "len(imgs) == len(anns)"
   ],
   "metadata": {
    "collapsed": false,
    "ExecuteTime": {
     "end_time": "2023-11-27T22:57:18.501229900Z",
     "start_time": "2023-11-27T22:57:17.652131100Z"
    }
   },
   "id": "e1ced080bf99ad06"
  },
  {
   "cell_type": "code",
   "execution_count": 43,
   "outputs": [
    {
     "data": {
      "text/plain": "['id',\n 'dataset_id',\n 'category_ids',\n 'path',\n 'width',\n 'height',\n 'file_name',\n 'annotated',\n 'annotating',\n 'num_annotations',\n 'metadata',\n 'deleted',\n 'milliseconds',\n 'events',\n 'regenerate_thumbnail']"
     },
     "execution_count": 43,
     "metadata": {},
     "output_type": "execute_result"
    }
   ],
   "source": [
    "list(imgs[0].keys())"
   ],
   "metadata": {
    "collapsed": false,
    "ExecuteTime": {
     "end_time": "2023-11-27T22:57:18.502230700Z",
     "start_time": "2023-11-27T22:57:17.657643400Z"
    }
   },
   "id": "623dee2687e73119"
  },
  {
   "cell_type": "code",
   "execution_count": 44,
   "outputs": [
    {
     "name": "stdout",
     "output_type": "stream",
     "text": [
      "JPEGImages/car10.jpg\n",
      "JPEGImages/car118.jpg\n",
      "JPEGImages/car25.jpg\n",
      "JPEGImages/car5.jpg\n",
      "JPEGImages/car6.jpg\n",
      "JPEGImages/car76.jpg\n",
      "JPEGImages/car77.jpg\n",
      "JPEGImages/car87.jpg\n",
      "JPEGImages/car88.jpg\n",
      "JPEGImages/te10.jpg\n",
      "JPEGImages/te11.jpg\n",
      "JPEGImages/te12.jpg\n",
      "JPEGImages/te14.jpg\n",
      "JPEGImages/te15.jpg\n",
      "JPEGImages/te16.jpg\n",
      "JPEGImages/te17.jpg\n",
      "JPEGImages/te18.jpg\n",
      "JPEGImages/te19.jpg\n",
      "JPEGImages/te20.jpg\n",
      "JPEGImages/te21.jpg\n",
      "JPEGImages/te22.jpg\n",
      "JPEGImages/te23.jpg\n",
      "JPEGImages/te24.jpg\n",
      "JPEGImages/te25.jpg\n",
      "JPEGImages/te26.jpg\n",
      "JPEGImages/te27.jpg\n",
      "JPEGImages/te28.jpg\n",
      "JPEGImages/te32.jpg\n",
      "JPEGImages/te34.jpg\n",
      "JPEGImages/te35.jpg\n",
      "JPEGImages/te36.jpg\n",
      "JPEGImages/te37.jpg\n",
      "JPEGImages/te38.jpg\n",
      "JPEGImages/te39.jpg\n",
      "JPEGImages/te4.jpg\n",
      "JPEGImages/te40.jpg\n",
      "JPEGImages/te42.jpg\n",
      "JPEGImages/te44.jpg\n",
      "JPEGImages/te45.jpg\n",
      "JPEGImages/te46.jpg\n",
      "JPEGImages/te47.jpg\n",
      "JPEGImages/te48.jpg\n",
      "JPEGImages/te49.jpg\n",
      "JPEGImages/te5.jpg\n",
      "JPEGImages/te50.jpg\n",
      "JPEGImages/te51.jpg\n",
      "JPEGImages/te52.jpg\n",
      "JPEGImages/te54.jpg\n",
      "JPEGImages/te55.jpg\n",
      "JPEGImages/te57.jpg\n",
      "JPEGImages/te58.jpg\n",
      "JPEGImages/te59.jpg\n",
      "JPEGImages/te60.jpg\n",
      "JPEGImages/te61.jpg\n",
      "JPEGImages/te62.jpg\n",
      "JPEGImages/te63.jpg\n",
      "JPEGImages/te66.jpg\n",
      "JPEGImages/te76.jpg\n",
      "JPEGImages/te77.jpg\n",
      "JPEGImages/te79.jpg\n",
      "JPEGImages/te8.jpg\n",
      "JPEGImages/te80.jpg\n",
      "JPEGImages/te81.jpg\n",
      "JPEGImages/te83.jpg\n",
      "JPEGImages/te84.jpg\n",
      "JPEGImages/te85.jpg\n",
      "JPEGImages/te86.jpg\n",
      "JPEGImages/te88.jpg\n",
      "JPEGImages/te89.jpg\n",
      "JPEGImages/te93.jpg\n",
      "JPEGImages/te94.jpg\n",
      "JPEGImages/te95.jpg\n",
      "JPEGImages/te96.jpg\n",
      "JPEGImages/te97.jpg\n",
      "JPEGImages/te98.jpg\n",
      "JPEGImages/te99.jpg\n"
     ]
    },
    {
     "ename": "IndexError",
     "evalue": "list index out of range",
     "output_type": "error",
     "traceback": [
      "\u001B[1;31m---------------------------------------------------------------------------\u001B[0m",
      "\u001B[1;31mIndexError\u001B[0m                                Traceback (most recent call last)",
      "Cell \u001B[1;32mIn[44], line 2\u001B[0m\n\u001B[0;32m      1\u001B[0m \u001B[38;5;28;01mfor\u001B[39;00m i \u001B[38;5;129;01min\u001B[39;00m \u001B[38;5;28mrange\u001B[39m(\u001B[38;5;28mlen\u001B[39m(anns)):\n\u001B[1;32m----> 2\u001B[0m     \u001B[38;5;28mprint\u001B[39m(\u001B[43mimgs\u001B[49m\u001B[43m[\u001B[49m\u001B[43mi\u001B[49m\u001B[43m]\u001B[49m[\u001B[38;5;124m'\u001B[39m\u001B[38;5;124mpath\u001B[39m\u001B[38;5;124m'\u001B[39m])\n",
      "\u001B[1;31mIndexError\u001B[0m: list index out of range"
     ]
    }
   ],
   "source": [
    "for i in range(len(anns)):\n",
    "    print(imgs[i]['path'])"
   ],
   "metadata": {
    "collapsed": false,
    "ExecuteTime": {
     "end_time": "2023-11-27T22:57:18.502230700Z",
     "start_time": "2023-11-27T22:57:17.661838400Z"
    }
   },
   "id": "8193b693ca847911"
  },
  {
   "cell_type": "code",
   "execution_count": null,
   "outputs": [],
   "source": [
    "all_cuts = []\n",
    "\n",
    "for i in range(len(anns)):\n",
    "    mask = coco.annToMask(anns[i])\n",
    "    img_p = mpimg.imread(f\"{data_dir}/{imgs[i]['path']}\")\n",
    "\n",
    "    # Mask decomposition\n",
    "    first = img_p[:, :, 0]\n",
    "    second = img_p[:, :, 1]\n",
    "    third = img_p[:, :, 2]\n",
    "\n",
    "    cut_first = first*mask\n",
    "    cut_second = second*mask\n",
    "    cut_third = third*mask\n",
    "\n",
    "    cut = np.dstack((cut_first, cut_second, cut_third))\n",
    "    all_cuts.append((cut, f\"{data_dir}/{imgs[i]['path']}\"))"
   ],
   "metadata": {
    "collapsed": false,
    "ExecuteTime": {
     "start_time": "2023-11-27T22:57:17.671704900Z"
    }
   },
   "id": "2a9f00a70c556cdb"
  },
  {
   "cell_type": "code",
   "execution_count": null,
   "outputs": [],
   "source": [
    "# import cv2\n",
    "# all_cuts = []\n",
    "# \n",
    "# for i in range(len(anns)):\n",
    "#     mask = coco.annToMask(anns[i])\n",
    "#     img_p = mpimg.imread(f\"{data_dir}/{imgs[i]['path']}\")\n",
    "#     \n",
    "#     # Mask decomposition\n",
    "#     first = img_p[:, :, 0]\n",
    "#     second = img_p[:, :, 1]\n",
    "#     third = img_p[:, :, 2]\n",
    "#     \n",
    "#     cut_first = first*mask\n",
    "#     cut_second = second*mask\n",
    "#     cut_third = third*mask\n",
    "# \n",
    "#     cut = np.dstack((cut_first, cut_second, cut_third))\n",
    "#     \n",
    "#     cut = cut.astype(np.uint8)\n",
    "#     \n",
    "#     img_thresh = cv2.adaptiveThreshold(cut, 255, cv2.ADAPTIVE_THRESH_GAUSSIAN_C, cv2.THRESH_BINARY_INV, 3, 2)\n",
    "#     \n",
    "#     cv2.imshow('thresh', img_thresh)\n",
    "#     cv2.waitKey() \n",
    "#     # cnts = cv2.findContours(img_thresh, cv2.RETR_EXTERNAL, cv2.CHAIN_APPROX_SIMPLE)\n",
    "#     \n",
    "#     # cnts = cnts[0] if len(cnts) == 2 else cnts[1]\n",
    "#     # c = max(cnts, key=cv2.contourArea)\n",
    "#     \n",
    "#     x, y, w, h = cv2.boundingRect(img_thresh)           #  Replaced code\n",
    "#                                                 # \n",
    "#     left = (x, np.argmax(img_thresh[:, x]))             # \n",
    "#     right = (x+w-1, np.argmax(img_thresh[:, x+w-1]))    # \n",
    "#     top = (np.argmax(img_thresh[y, :]), y)              # \n",
    "#     bottom = (np.argmax(img_thresh[y+h-1, :]), y+h-1)\n",
    "#     \n",
    "#     # Obtain outer coordinates\n",
    "#     # left = tuple(c[c[:, :, 0].argmin()][0])\n",
    "#     # right = tuple(c[c[:, :, 0].argmax()][0])\n",
    "#     # top = tuple(c[c[:, :, 1].argmin()][0])\n",
    "#     # bottom = tuple(c[c[:, :, 1].argmax()][0])\n",
    "#     # \n",
    "#     # Draw dots onto image\n",
    "#     # cv2.drawContours(img, [c], -1, (36, 255, 12), 2)\n",
    "#     cv2.circle(cut, left, 8, (0, 50, 255), -1)\n",
    "#     cv2.circle(cut, right, 8, (0, 255, 255), -1)\n",
    "#     cv2.circle(cut, top, 8, (255, 50, 0), -1)\n",
    "#     cv2.circle(cut, bottom, 8, (255, 255, 0), -1)\n",
    "#     \n",
    "#     cv2.imshow('outliers', cut)\n",
    "#     cv2.waitKey() \n",
    "#     \n",
    "#     \n",
    "#     all_cuts.append((cut, f\"{data_dir}/{imgs[i]['path']}\"))"
   ],
   "metadata": {
    "collapsed": false,
    "ExecuteTime": {
     "start_time": "2023-11-27T22:57:17.673705200Z"
    }
   },
   "id": "d54c7f475da211dd"
  },
  {
   "cell_type": "code",
   "execution_count": null,
   "outputs": [],
   "source": [
    "import cv2\n",
    "# cv2.imshow(\"image\", all_cuts[0][0])\n",
    "# cv2.waitKey()"
   ],
   "metadata": {
    "collapsed": false,
    "ExecuteTime": {
     "start_time": "2023-11-27T22:57:17.673705200Z"
    }
   },
   "id": "22e73764cb398fa8"
  },
  {
   "cell_type": "code",
   "execution_count": null,
   "outputs": [],
   "source": [
    "import os\n",
    "os.getcwd()"
   ],
   "metadata": {
    "collapsed": false,
    "ExecuteTime": {
     "start_time": "2023-11-27T22:57:17.675731Z"
    }
   },
   "id": "9ea7c0a84314be87"
  },
  {
   "cell_type": "code",
   "execution_count": null,
   "outputs": [],
   "source": [
    "from pathlib import Path\n",
    "print(\"RUN\")\n",
    "for img, full_path in all_cuts:\n",
    "    img_blur = cv2.GaussianBlur(img,(3,3), sigmaX=0, sigmaY=0) \n",
    "    edges = cv2.Canny(image=img_blur, threshold1=50, threshold2=50) \n",
    "    # edges = (edges == 255).astype(int)\n",
    "    # cv2.imshow(\"image\", edges)\n",
    "    # cv2.waitKey()\n",
    "    name = f\"{Path().absolute()}/CarPartsDatasetExperimentDir/exp2/{Path(full_path).stem}_cut.jpg\"\n",
    "    \n",
    "    # blured = cv2.blur(edges, (5,5), 0)    \n",
    "    MIN_CONTOUR_AREA=1000\n",
    "    img_thresh = cv2.adaptiveThreshold(edges, 255, cv2.ADAPTIVE_THRESH_GAUSSIAN_C, cv2.THRESH_BINARY_INV, 11, 2)\n",
    "    Contours,imgContours = cv2.findContours(img_thresh, cv2.RETR_EXTERNAL, cv2.CHAIN_APPROX_SIMPLE)\n",
    "    for contour in Contours:\n",
    "        if cv2.contourArea(contour) > MIN_CONTOUR_AREA:\n",
    "            [X, Y, W, H] = cv2.boundingRect(contour)\n",
    "            # box=cv2.rectangle(img, (X, Y), (X + W, Y + H), (0,0,255), 2)\n",
    "            #cropped_image = edges[Y:Y+H, X:X+W]\n",
    "            # plt.imshow(cropped_image)\n",
    "            # cv2.imshow(\"cropped\", cropped_image)\n",
    "            # cv2.waitKey()\n",
    "            # print(cropped_image.shape)\n",
    "            # cv2.imwrite(name, cropped_image)\n",
    "            \n",
    "            cropped_image = img[Y:Y+H, X:X+W]\n",
    "            cv2.imwrite(name, cropped_image)\n",
    "            \n",
    "            # print(np.unique(cropped_image))"
   ],
   "metadata": {
    "collapsed": false,
    "ExecuteTime": {
     "start_time": "2023-11-27T22:57:17.676735700Z"
    }
   },
   "id": "8155c1494941b908"
  },
  {
   "cell_type": "code",
   "execution_count": null,
   "outputs": [],
   "source": [
    "# from pathlib import Path\n",
    "# \n",
    "# for img, full_path in all_cuts:\n",
    "#     img_blur = cv2.GaussianBlur(img,(3,3), sigmaX=0, sigmaY=0) \n",
    "#     edges = cv2.Canny(image=img_blur, threshold1=50, threshold2=50) \n",
    "#     # edges = (edges == 255).astype(int)\n",
    "#     # cv2.imshow(\"image\", edges)\n",
    "#     # cv2.waitKey()\n",
    "#     name = f\"{Path().absolute()}/CarPartsDatasetExperimentDir/{Path(full_path).stem}_edge.jpg\"\n",
    "#     MIN_CONTOUR_AREA=1000\n",
    "#     img_thresh = cv2.adaptiveThreshold(edges, 255, cv2.ADAPTIVE_THRESH_GAUSSIAN_C, cv2.THRESH_BINARY_INV, 3, 2)\n",
    "#     \n",
    "#     cv2.imshow('thresh', img_thresh)\n",
    "#     cv2.waitKey() \n",
    "#     # cnts = cv2.findContours(img_thresh, cv2.RETR_EXTERNAL, cv2.CHAIN_APPROX_SIMPLE)\n",
    "#     \n",
    "#     # cnts = cnts[0] if len(cnts) == 2 else cnts[1]\n",
    "#     # c = max(cnts, key=cv2.contourArea)\n",
    "#     \n",
    "#     x, y, w, h = cv2.boundingRect(img_thresh)           #  Replaced code\n",
    "#                                                 # \n",
    "#     left = (x, np.argmax(img_thresh[:, x]))             # \n",
    "#     right = (x+w-1, np.argmax(img_thresh[:, x+w-1]))    # \n",
    "#     top = (np.argmax(img_thresh[y, :]), y)              # \n",
    "#     bottom = (np.argmax(img_thresh[y+h-1, :]), y+h-1)\n",
    "#     \n",
    "#     # Obtain outer coordinates\n",
    "#     # left = tuple(c[c[:, :, 0].argmin()][0])\n",
    "#     # right = tuple(c[c[:, :, 0].argmax()][0])\n",
    "#     # top = tuple(c[c[:, :, 1].argmin()][0])\n",
    "#     # bottom = tuple(c[c[:, :, 1].argmax()][0])\n",
    "#     # \n",
    "#     # Draw dots onto image\n",
    "#     # cv2.drawContours(img, [c], -1, (36, 255, 12), 2)\n",
    "#     cv2.circle(img, left, 8, (0, 50, 255), -1)\n",
    "#     cv2.circle(img, right, 8, (0, 255, 255), -1)\n",
    "#     cv2.circle(img, top, 8, (255, 50, 0), -1)\n",
    "#     cv2.circle(img, bottom, 8, (255, 255, 0), -1)\n",
    "#     \n",
    "#     cv2.imshow('outliers', img)\n",
    "#     cv2.waitKey() \n",
    "    "
   ],
   "metadata": {
    "collapsed": false,
    "ExecuteTime": {
     "start_time": "2023-11-27T22:57:17.677735900Z"
    }
   },
   "id": "f43fa14dfe4334ff"
  }
 ],
 "metadata": {
  "kernelspec": {
   "display_name": "Python 3",
   "language": "python",
   "name": "python3"
  },
  "language_info": {
   "codemirror_mode": {
    "name": "ipython",
    "version": 2
   },
   "file_extension": ".py",
   "mimetype": "text/x-python",
   "name": "python",
   "nbconvert_exporter": "python",
   "pygments_lexer": "ipython2",
   "version": "2.7.6"
  }
 },
 "nbformat": 4,
 "nbformat_minor": 5
}
