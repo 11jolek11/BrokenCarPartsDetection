{
 "cells": [
  {
   "cell_type": "code",
   "execution_count": null,
   "id": "initial_id",
   "metadata": {
    "collapsed": true
   },
   "outputs": [],
   "source": [
    "import cv2\n",
    "import torch\n",
    "from pathlib import Path\n",
    "import numpy as np\n",
    "from torch.utils.data import Dataset\n",
    "from pycocotools.coco import COCO\n",
    "\n",
    "\n",
    "\n",
    "img_dir = \"C:/Users/dabro/PycharmProjects/scientificProject/data/Car-Parts-Segmentation-master/Car-Parts-Segmentation-master/testset/\"\n",
    "\n",
    "annot_file = \"C:/Users/dabro/PycharmProjects/scientificProject/data/Car-Parts-Segmentation-master/Car-Parts-Segmentation-master/testset/annotations.json\"\n",
    "\n",
    "\n"
   ]
  },
  {
   "cell_type": "code",
   "execution_count": null,
   "outputs": [],
   "source": [
    "\n",
    "class DoorsDataset3(Dataset):\n",
    "    def __init__(self, img_dir, annotation_file, transform=None):\n",
    "        self.annotation_file = Path(annotation_file)\n",
    "        self.img_dir = Path(img_dir)\n",
    "        self.transform = transform\n",
    "        # self._available_files = list(self.img_dir.glob('*.{jpg,jpeg,png,gif,bmp,tiff}'))\n",
    "        self._available_files = list(self.img_dir.glob('*.jpg'))\n",
    "\n",
    "        self.coco = COCO(self.annotation_file)\n",
    "\n",
    "        # Available categories\n",
    "        # cats = self.coco.loadCats(self.coco.getCatIds())\n",
    "        # print([cat[\"name\"] for cat in cats])\n",
    "\n",
    "        # ['_background_', 'back_bumper', 'back_glass', 'back_left_door', 'back_left_light', 'back_right_door',\n",
    "        # 'back_right_light', 'front_bumper', 'front_glass', 'front_left_door', 'front_left_light', 'front_right_door',\n",
    "        # 'front_right_light', 'hood', 'left_mirror', 'right_mirror', 'tailgate', 'trunk', 'wheel']\n",
    "\n",
    "        catIds = self.coco.getCatIds(catNms=[\"front_left_door\"])\n",
    "        imgIds = self.coco.getImgIds(catIds=catIds)\n",
    "\n",
    "        self.imgs = self.coco.loadImgs(imgIds)\n",
    "\n",
    "        annIds = self.coco.getAnnIds(imgIds=[img[\"id\"] for img in self.imgs], catIds=catIds, iscrowd=None)\n",
    "        self.anns = self.coco.loadAnns(annIds)\n",
    "\n",
    "    def __len__(self):\n",
    "        return len(self.anns)\n",
    "\n",
    "    def __getitem__(self, index):\n",
    "        mask = self.coco.annToMask(self.anns[index])\n",
    "        imgs = self.coco.loadImgs([self.anns[index][\"image_id\"]])[0]\n",
    "        img_path = Path((str(self.img_dir) + \"/\" + imgs[\"path\"]))\n",
    "        # print(str(img_path.absolute()))\n",
    "        img = cv2.imread(str(img_path.absolute()))\n",
    "\n",
    "        # Mask decomposition\n",
    "        first = img[:, :, 0]\n",
    "        second = img[:, :, 1]\n",
    "        third = img[:, :, 2]\n",
    "\n",
    "        cut_first = first * mask\n",
    "        cut_second = second * mask\n",
    "        cut_third = third * mask\n",
    "\n",
    "        img = np.dstack((cut_first, cut_second, cut_third))\n",
    "\n",
    "        img_blur = cv2.GaussianBlur(img, (3, 3), sigmaX=0, sigmaY=0)\n",
    "        edges = cv2.Canny(image=img_blur, threshold1=50, threshold2=50)\n",
    "\n",
    "        MIN_CONTOUR_AREA = 100\n",
    "        img_thresh = cv2.adaptiveThreshold(edges, 255, cv2.ADAPTIVE_THRESH_GAUSSIAN_C, cv2.THRESH_BINARY_INV, 11, 2)\n",
    "        Contours, imgContours = cv2.findContours(img_thresh, cv2.RETR_EXTERNAL, cv2.CHAIN_APPROX_SIMPLE)\n",
    "        for contour in Contours:\n",
    "            if cv2.contourArea(contour) > MIN_CONTOUR_AREA:\n",
    "                [X, Y, W, H] = cv2.boundingRect(contour)\n",
    "                cropped_image = edges[Y:Y + H, X:X + W]\n",
    "\n",
    "\n",
    "\n",
    "        resized_edges = cv2.resize(cropped_image, (128, 128), interpolation=cv2.INTER_AREA)\n",
    "\n",
    "        binarized = np.where(resized_edges > 100, 1.0, 0.0)\n",
    "\n",
    "        if self.transform:\n",
    "            binarized = self.transform(binarized)\n",
    "\n",
    "        return binarized\n"
   ],
   "metadata": {
    "collapsed": false
   },
   "id": "20e00940249a898d"
  },
  {
   "cell_type": "code",
   "execution_count": null,
   "outputs": [],
   "source": [
    "if __name__ == \"__main__\":\n",
    "    b = DoorsDataset3(\n",
    "        \"C:/Users/dabro/PycharmProjects/scientificProject/data/Car-Parts-Segmentation-master/Car-Parts-Segmentation-master/trainingset/\",\n",
    "        \"C:/Users/dabro/PycharmProjects/scientificProject/data/Car-Parts-Segmentation-master/Car-Parts-Segmentation-master/trainingset/annotations.json\"\n",
    "    )\n",
    "\n",
    "    image = b[0]\n",
    "    cv2.imshow(\"image\", image)\n",
    "    cv2.waitKey(0)\n"
   ],
   "metadata": {
    "collapsed": false
   },
   "id": "f7edeb1cf785dc9f"
  }
 ],
 "metadata": {
  "kernelspec": {
   "display_name": "Python 3",
   "language": "python",
   "name": "python3"
  },
  "language_info": {
   "codemirror_mode": {
    "name": "ipython",
    "version": 2
   },
   "file_extension": ".py",
   "mimetype": "text/x-python",
   "name": "python",
   "nbconvert_exporter": "python",
   "pygments_lexer": "ipython2",
   "version": "2.7.6"
  }
 },
 "nbformat": 4,
 "nbformat_minor": 5
}
