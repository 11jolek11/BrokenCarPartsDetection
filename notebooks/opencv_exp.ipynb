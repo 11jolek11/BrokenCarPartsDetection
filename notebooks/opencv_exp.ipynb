{
 "cells": [
  {
   "cell_type": "code",
   "execution_count": 1,
   "id": "initial_id",
   "metadata": {
    "collapsed": true,
    "ExecuteTime": {
     "end_time": "2023-11-18T22:03:04.892551400Z",
     "start_time": "2023-11-18T22:03:03.273169100Z"
    }
   },
   "outputs": [],
   "source": [
    "import cv2\n",
    "import numpy as np\n",
    "import matplotlib.pyplot as plt"
   ]
  },
  {
   "cell_type": "code",
   "execution_count": 2,
   "outputs": [
    {
     "data": {
      "text/plain": "-1"
     },
     "execution_count": 2,
     "metadata": {},
     "output_type": "execute_result"
    }
   ],
   "source": [
    "img = cv2.imread('./te52_edit.jpg')\n",
    "\n",
    "\n",
    "img_blur = cv2.GaussianBlur(img,(3,3), sigmaX=0, sigmaY=0) \n",
    "\n",
    "sobelx = cv2.Sobel(src=img_blur, ddepth=cv2.CV_64F, dx=1, dy=0, ksize=15) # Sobel Edge Detection on the X axis\n",
    "sobely = cv2.Sobel(src=img_blur, ddepth=cv2.CV_64F, dx=0, dy=1, ksize=15) # Sobel Edge Detection on the Y axis\n",
    "sobelxy = cv2.Sobel(src=img_blur, ddepth=cv2.CV_64F, dx=1, dy=1, ksize=15) # Combined X and Y Sobel Edge Detection\n",
    " \n",
    "# Display Sobel Edge Detection Images\n",
    "cv2.imshow('Sobel X', sobelx)\n",
    "cv2.waitKey(0)\n",
    " \n",
    "cv2.imshow('Sobel Y', sobely)\n",
    "cv2.waitKey(0)\n",
    " \n",
    "cv2.imshow('Sobel X Y using Sobel() function', sobelxy)\n",
    "cv2.waitKey(0)"
   ],
   "metadata": {
    "collapsed": false,
    "ExecuteTime": {
     "end_time": "2023-11-18T22:03:08.372318600Z",
     "start_time": "2023-11-18T22:03:04.891551100Z"
    }
   },
   "id": "e84fe572ffbe0b87"
  },
  {
   "cell_type": "code",
   "execution_count": 3,
   "outputs": [
    {
     "data": {
      "text/plain": "-1"
     },
     "execution_count": 3,
     "metadata": {},
     "output_type": "execute_result"
    }
   ],
   "source": [
    "edges = cv2.Canny(image=img_blur, threshold1=100, threshold2=200) \n",
    " \n",
    "# Display Canny Edge Detection Image\n",
    "cv2.imshow('Canny Edge Detection', edges)\n",
    "cv2.waitKey(0)"
   ],
   "metadata": {
    "collapsed": false,
    "ExecuteTime": {
     "end_time": "2023-11-18T22:03:09.470114100Z",
     "start_time": "2023-11-18T22:03:08.367319900Z"
    }
   },
   "id": "85971a2320cb2cc0"
  },
  {
   "cell_type": "code",
   "execution_count": 4,
   "outputs": [
    {
     "name": "stdout",
     "output_type": "stream",
     "text": [
      "[  0 255]\n"
     ]
    }
   ],
   "source": [
    "print(np.unique(edges))"
   ],
   "metadata": {
    "collapsed": false,
    "ExecuteTime": {
     "end_time": "2023-11-18T22:03:09.471597400Z",
     "start_time": "2023-11-18T22:03:09.462153100Z"
    }
   },
   "id": "d19056f15b914fb8"
  },
  {
   "cell_type": "code",
   "execution_count": 5,
   "outputs": [
    {
     "data": {
      "text/plain": "(171, 295)"
     },
     "execution_count": 5,
     "metadata": {},
     "output_type": "execute_result"
    }
   ],
   "source": [
    "edges.shape"
   ],
   "metadata": {
    "collapsed": false,
    "ExecuteTime": {
     "end_time": "2023-11-18T22:03:09.483136100Z",
     "start_time": "2023-11-18T22:03:09.470114100Z"
    }
   },
   "id": "916bb0f4b1da01f3"
  },
  {
   "cell_type": "code",
   "execution_count": 6,
   "outputs": [
    {
     "data": {
      "text/plain": "<Figure size 640x480 with 1 Axes>",
      "image/png": "[encoded data removed]"
     },
     "metadata": {},
     "output_type": "display_data"
    }
   ],
   "source": [
    "edges = (edges == 255).astype(int)\n",
    "\n",
    "plt.imshow(edges, interpolation='nearest')\n",
    "plt.show()"
   ],
   "metadata": {
    "collapsed": false,
    "ExecuteTime": {
     "end_time": "2023-11-18T22:03:09.652842700Z",
     "start_time": "2023-11-18T22:03:09.474106200Z"
    }
   },
   "id": "85d052845219eb11"
  },
  {
   "cell_type": "code",
   "execution_count": 8,
   "outputs": [
    {
     "name": "stdout",
     "output_type": "stream",
     "text": [
      "loading annotations into memory...\n",
      "Done (t=0.00s)\n",
      "creating index...\n",
      "index created!\n"
     ]
    }
   ],
   "source": [
    "from pycocotools.coco import *\n",
    "\n",
    "\n",
    "coco = COCO('./output.json')"
   ],
   "metadata": {
    "collapsed": false,
    "ExecuteTime": {
     "end_time": "2023-11-18T22:04:49.353406500Z",
     "start_time": "2023-11-18T22:04:49.317165200Z"
    }
   },
   "id": "3a8228b80753b0f2"
  },
  {
   "cell_type": "code",
   "execution_count": 9,
   "outputs": [
    {
     "name": "stdout",
     "output_type": "stream",
     "text": [
      "COCO categories: \n",
      "Hood\n",
      "\n",
      "COCO supercategories: \n",
      "root\n"
     ]
    }
   ],
   "source": [
    "cats = coco.loadCats(coco.getCatIds())\n",
    "nms=[cat['name'] for cat in cats]\n",
    "print('COCO categories: \\n{}\\n'.format(' '.join(nms)))\n",
    "\n",
    "nms = set([cat['supercategory'] for cat in cats])\n",
    "print('COCO supercategories: \\n{}'.format(' '.join(nms)))"
   ],
   "metadata": {
    "collapsed": false,
    "ExecuteTime": {
     "end_time": "2023-11-18T22:05:10.079321600Z",
     "start_time": "2023-11-18T22:05:10.071595200Z"
    }
   },
   "id": "e0e89405b3eb8c81"
  },
  {
   "cell_type": "code",
   "execution_count": 13,
   "outputs": [
    {
     "name": "stdout",
     "output_type": "stream",
     "text": [
      "[2244000789, 1160020365]\n"
     ]
    }
   ],
   "source": [
    "catIds = coco.getCatIds(catNms=['Hood'])\n",
    "imgIds = coco.getImgIds(catIds=catIds)\n",
    "print(imgIds)\n",
    "imgIds = coco.getImgIds(imgIds = [1160020365])\n",
    "img = coco.loadImgs(imgIds[np.random.randint(0,len(imgIds))])[0]"
   ],
   "metadata": {
    "collapsed": false,
    "ExecuteTime": {
     "end_time": "2023-11-18T22:07:57.350710Z",
     "start_time": "2023-11-18T22:07:57.343603400Z"
    }
   },
   "id": "b586ef4cab113f7c"
  },
  {
   "cell_type": "code",
   "execution_count": null,
   "outputs": [],
   "source": [
    "# https://github.com/cocodataset/cocoapi/blob/master/PythonAPI/pycocoDemo.ipynb"
   ],
   "metadata": {
    "collapsed": false
   },
   "id": "667576d1369fe01b"
  }
 ],
 "metadata": {
  "kernelspec": {
   "display_name": "Python 3",
   "language": "python",
   "name": "python3"
  },
  "language_info": {
   "codemirror_mode": {
    "name": "ipython",
    "version": 2
   },
   "file_extension": ".py",
   "mimetype": "text/x-python",
   "name": "python",
   "nbconvert_exporter": "python",
   "pygments_lexer": "ipython2",
   "version": "2.7.6"
  }
 },
 "nbformat": 4,
 "nbformat_minor": 5
}
